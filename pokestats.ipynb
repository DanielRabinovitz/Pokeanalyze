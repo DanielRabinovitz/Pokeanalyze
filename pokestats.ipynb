{
 "cells": [
  {
   "cell_type": "code",
   "execution_count": 7,
   "metadata": {},
   "outputs": [],
   "source": [
    "import matchup_calcs as mc\n",
    "import tieraggregator as ta\n",
    "from pokedex import Pokedex\n",
    "\n",
    "dex = Pokedex()"
   ]
  },
  {
   "cell_type": "markdown",
   "metadata": {},
   "source": [
    "I was a man on a mission. I wanted to prove that Moltres was underrated in Scarlet and Violet Overused. But how could I, a dude with a mid elo hovering in the 1400-1500 range ever properly make that argument to a higher ranked player?\n",
    "\n",
    "A bunch of math. Because I'm a nerd. By professional training, I'm a data scientist. And I had to make sure that my method wouldn't just work for Moltres, it would have to work for *every* pokemon. And so I have learned how to definitivley quantify a pokemon's offensive and defensive weaknesses in relation to other pokemon.\n",
    "\n",
    "Here's the basic model:\n",
    "\n",
    "The Pokemon damage formula is pretty long, and it has the following parameters. I'm skipping the niche ones that only apply to a handful of pokemon, and the ones like level that are pretty much constant except for in a few niche cases.\n",
    "\n",
    "1) Move power\n",
    "2) Stats, using IVs and EVs\n",
    "3) Weather\n",
    "4) Crits\n",
    "5) Random rolls\n",
    "6) Burns\n",
    "7) STAB\n",
    "8) Type matchup\n",
    "\n",
    "Out of these we can narrow in on a move power and stats as the only things that are really consistent from game to game because they're locked into the team builder. The dataset I got from the pokemon showdown API at https://play.pokemonshowdown.com/data/pokedex.json didn't contain movesets, so we're not counting those either.\n",
    "\n",
    "What we're left with are the two things that basically every team is built around: a pokemon's typing and stats. But different pokemon have different matchups based on those types and stats! Blissey is very good at walling most special attackers, but is very weak into a physical fighting type. So we need our model to focus on individual offensive and defensive matchups. Step one of the model is figuring out how to generate metrics for two pokemon in a 1v1 scenario.\n",
    "\n",
    "Here's the basic formula:\n",
    "\n",
    " *1v1 score = type_matchup * attacker stat / defender stat / (defender hp/86.2)*\n",
    "\n",
    "This formula gets you a score to measure the expected damage multiplier of the attacker vs the defender based on stats and typing, and then adjusts the survivability of the defender by their hp stat. A lower defensive score is better because it means in this matchup, the pokemon is expected to take less damage. A higher offensive score is better because it means that in this matchup, the pokemon is expected to deal more damage."
   ]
  },
  {
   "cell_type": "code",
   "execution_count": 10,
   "metadata": {},
   "outputs": [
    {
     "ename": "AttributeError",
     "evalue": "module 'matchup_calcs' has no attribute 'score_1v1_names'",
     "output_type": "error",
     "traceback": [
      "\u001b[1;31m---------------------------------------------------------------------------\u001b[0m",
      "\u001b[1;31mAttributeError\u001b[0m                            Traceback (most recent call last)",
      "Cell \u001b[1;32mIn[10], line 3\u001b[0m\n\u001b[0;32m      1\u001b[0m \u001b[38;5;66;03m#Here are a few example matchups from the OU tier to help you understand how the scores work and what normal scores look like.\u001b[39;00m\n\u001b[1;32m----> 3\u001b[0m \u001b[38;5;28mprint\u001b[39m(\u001b[43mmc\u001b[49m\u001b[38;5;241;43m.\u001b[39;49m\u001b[43mscore_1v1_names\u001b[49m(\u001b[38;5;124m'\u001b[39m\u001b[38;5;124mgreattusk\u001b[39m\u001b[38;5;124m'\u001b[39m, \u001b[38;5;124m'\u001b[39m\u001b[38;5;124mgholdengo\u001b[39m\u001b[38;5;124m'\u001b[39m))\n\u001b[0;32m      4\u001b[0m \u001b[38;5;28mprint\u001b[39m(mc\u001b[38;5;241m.\u001b[39mscore_1v1_names(\u001b[38;5;124m'\u001b[39m\u001b[38;5;124mragingbolt\u001b[39m\u001b[38;5;124m'\u001b[39m, \u001b[38;5;124m'\u001b[39m\u001b[38;5;124mclodsire\u001b[39m\u001b[38;5;124m'\u001b[39m))\n\u001b[0;32m      5\u001b[0m \u001b[38;5;28mprint\u001b[39m(mc\u001b[38;5;241m.\u001b[39mscore_1v1_names(\u001b[38;5;124m'\u001b[39m\u001b[38;5;124mskarmory\u001b[39m\u001b[38;5;124m'\u001b[39m, \u001b[38;5;124m'\u001b[39m\u001b[38;5;124mclefable\u001b[39m\u001b[38;5;124m'\u001b[39m))\n",
      "\u001b[1;31mAttributeError\u001b[0m: module 'matchup_calcs' has no attribute 'score_1v1_names'"
     ]
    }
   ],
   "source": [
    "#Here are a few example matchups from the OU tier to help you understand how the scores work and what normal scores look like.\n",
    "\n",
    "print('Great Tusk fighting Gholdengo')\n",
    "print(mc.score_1v1_names('greattusk', 'gholdengo'))\n",
    "print('Raging Bolt fighting Clodsire')\n",
    "print(mc.score_1v1_names('ragingbolt', 'clodsire'))\n",
    "print('Skarmory fighting Clefable')\n",
    "print(mc.score_1v1_names('skarmory', 'clefable'))"
   ]
  },
  {
   "cell_type": "markdown",
   "metadata": {},
   "source": [
    "Type matchup is the expected damage multiplier dealt based on the type matchup between the two pokemon. To make things easier, we're assuming that a pokemon is using a move of its type since I can't account for coverage moves easily. If the attacker is monotype this is pretty easy, but if there are dual types involved we average the expected outcomes. For example, if a Great Tusk [Ground, Fighting] is attacking a Gholdengo [Ghost, Steel], then the expected type score will be:\n",
    "\n",
    "Ground -> [Ghost, Steel] = 2x\n",
    "Fighting -> [Ghost, Steel] = 0x\n",
    "\n",
    "[2 + 0] / 2 = 1, so we expect a type score of one.\n",
    "\n",
    "Then the attacker stat is the attacker's highest attacking stat, and the defender stat is the defensive stat that they're using to take the hit. So in the above example, the attacker stat would be attack because Great Tusk is a physical attacker, and the defender stat is Gholdengo's physical defense. In the actual damage formula the base damage of an attack is (Base Power)*(attacker stat/defender stat).\n",
    "\n",
    "The last part of the 1v1 score is to adjust for the defender's HP stat. We divide the overall score by (HP/86.2) because 86.2 is the average HP stat for all competitivley viable pokemon in gen 9 (meaning any pokemon in a tier PU or above, but not counting Ubers). \n"
   ]
  }
 ],
 "metadata": {
  "kernelspec": {
   "display_name": "Python 3",
   "language": "python",
   "name": "python3"
  },
  "language_info": {
   "codemirror_mode": {
    "name": "ipython",
    "version": 3
   },
   "file_extension": ".py",
   "mimetype": "text/x-python",
   "name": "python",
   "nbconvert_exporter": "python",
   "pygments_lexer": "ipython3",
   "version": "3.11.4"
  }
 },
 "nbformat": 4,
 "nbformat_minor": 2
}
